{
 "cells": [
  {
   "cell_type": "code",
   "execution_count": null,
   "id": "16741315",
   "metadata": {},
   "outputs": [],
   "source": [
    "# Partition subarrays with equal sum \n",
    "# Using two pointer approach from start to end \n",
    "# All elements must be included , so from 1st to middleth and last to middleth will be includent\n",
    "\n",
    "def printTwoParts(arr,n):\n",
    "    pointer1=arr[0]\n",
    "    pointer2=arr[n-1]\n",
    "    leftsum=arr[pointer1]\n",
    "    rightsum=arr[pointer2]\n",
    "    while pointer2>pointer1:\n",
    "        \n",
    "        if leftsum<rightsum:\n",
    "            pointer1=pointer1+1\n",
    "            leftsum=leftsum+arr[pointer1]\n",
    "        elif rightsum<leftsum:\n",
    "            pointer2=pointer2-1\n",
    "            rightsum=rightsum+arr[pointer2]\n",
    "        elif rightsum==leftsum and pointer1+1==pointer2:\n",
    "            break\n",
    "    print(rightsum)\n",
    "    print(leftsum)\n",
    "            \n",
    "            \n",
    "   \n",
    "        \n",
    "        \n",
    "        \n",
    "\n",
    "arr = [1 , 2 , 3 , 4 , 5 , 5]\n",
    "n = len(arr)\n",
    "printTwoParts(arr, n)"
   ]
  },
  {
   "cell_type": "code",
   "execution_count": null,
   "id": "7a93ea4a",
   "metadata": {},
   "outputs": [],
   "source": []
  }
 ],
 "metadata": {
  "kernelspec": {
   "display_name": "Python 3 (ipykernel)",
   "language": "python",
   "name": "python3"
  },
  "language_info": {
   "codemirror_mode": {
    "name": "ipython",
    "version": 3
   },
   "file_extension": ".py",
   "mimetype": "text/x-python",
   "name": "python",
   "nbconvert_exporter": "python",
   "pygments_lexer": "ipython3",
   "version": "3.10.6"
  }
 },
 "nbformat": 4,
 "nbformat_minor": 5
}
